{
 "cells": [
  {
   "cell_type": "code",
   "execution_count": 1,
   "metadata": {},
   "outputs": [],
   "source": [
    "import pandas as pd\n",
    "import datetime as dt\n",
    "import numpy as np\n",
    "import seaborn as sns\n",
    "import matplotlib.pyplot as plt\n",
    "import os\n",
    "from pathlib import Path\n",
    "import sklearn\n",
    "from sklearn import metrics\n",
    "import mord"
   ]
  },
  {
   "cell_type": "code",
   "execution_count": 2,
   "metadata": {},
   "outputs": [],
   "source": [
    "# Run this cell to load the data. \n",
    "data_file = Path(\"data/part1\", \"cleaned_data.hdf\")\n",
    "train = pd.read_hdf(data_file, \"train\")\n",
    "test = pd.read_hdf(data_file, \"test\")"
   ]
  },
  {
   "cell_type": "code",
   "execution_count": 3,
   "metadata": {},
   "outputs": [],
   "source": [
    "#split 80/20 by time...for users with more than 10 ratings...\n",
    "#famous movies, train--test(eliminate the famous movies)\n",
    "#predict their score for this movie and compare to actual rating(linear regression!)--choose top 5...lol :(\n",
    "#two separate problems..."
   ]
  },
  {
   "cell_type": "code",
   "execution_count": 7,
   "metadata": {},
   "outputs": [
    {
     "data": {
      "text/plain": [
       "76540     True\n",
       "36204     True\n",
       "25960     True\n",
       "127171    True\n",
       "119791    True\n",
       "68233     True\n",
       "121055    True\n",
       "13244     True\n",
       "77753     True\n",
       "41714     True\n",
       "26222     True\n",
       "22512     True\n",
       "35356     True\n",
       "32768     True\n",
       "107288    True\n",
       "124413    True\n",
       "64326     True\n",
       "10224     True\n",
       "110609    True\n",
       "26214     True\n",
       "91740     True\n",
       "94106     True\n",
       "80476     True\n",
       "85987     True\n",
       "89795     True\n",
       "33035     True\n",
       "12892     True\n",
       "83151     True\n",
       "77514     True\n",
       "16174     True\n",
       "          ... \n",
       "113962    True\n",
       "38705     True\n",
       "17914     True\n",
       "123734    True\n",
       "104857    True\n",
       "34296     True\n",
       "51418     True\n",
       "63609     True\n",
       "109747    True\n",
       "92019     True\n",
       "48774     True\n",
       "30385     True\n",
       "8744      True\n",
       "874       True\n",
       "6589      True\n",
       "20564     True\n",
       "87399     True\n",
       "56770     True\n",
       "7935      True\n",
       "91404     True\n",
       "106323    True\n",
       "20534     True\n",
       "41075     True\n",
       "15316     True\n",
       "106814    True\n",
       "95778     True\n",
       "55490     True\n",
       "66805     True\n",
       "82878     True\n",
       "23634     True\n",
       "Name: userId, Length: 800, dtype: bool"
      ]
     },
     "execution_count": 7,
     "metadata": {},
     "output_type": "execute_result"
    }
   ],
   "source": [
    "train[\"userId\"].value_counts()-3 >=0"
   ]
  },
  {
   "cell_type": "code",
   "execution_count": 12,
   "metadata": {},
   "outputs": [
    {
     "data": {
      "text/plain": [
       "105498    1984\n",
       "106906    1821\n",
       "68710     1475\n",
       "48527     1412\n",
       "110846    1245\n",
       "94827     1155\n",
       "48551      877\n",
       "134499     873\n",
       "101274     813\n",
       "42466      775\n",
       "74318      762\n",
       "129008     739\n",
       "69654      707\n",
       "73187      707\n",
       "13049      623\n",
       "69969      562\n",
       "96884      547\n",
       "114482     538\n",
       "78487      470\n",
       "63580      470\n",
       "93886      410\n",
       "76928      404\n",
       "70263      364\n",
       "22886      362\n",
       "69407      348\n",
       "121935     341\n",
       "35410      333\n",
       "114614     320\n",
       "91885      312\n",
       "94686      302\n",
       "          ... \n",
       "7338        25\n",
       "130315      25\n",
       "75507       24\n",
       "89455       23\n",
       "60142       23\n",
       "38091       22\n",
       "100495      22\n",
       "17816       22\n",
       "111604      22\n",
       "106740      22\n",
       "79319       22\n",
       "79444       22\n",
       "92564       22\n",
       "99909       22\n",
       "53567       21\n",
       "120226      21\n",
       "33499       21\n",
       "124940      21\n",
       "114497      21\n",
       "56982       20\n",
       "127454      20\n",
       "22523       20\n",
       "21610       20\n",
       "96117       20\n",
       "29121       20\n",
       "96174       20\n",
       "42882       20\n",
       "86109       20\n",
       "103237      20\n",
       "116575      20\n",
       "Name: userId, Length: 200, dtype: int64"
      ]
     },
     "execution_count": 12,
     "metadata": {},
     "output_type": "execute_result"
    }
   ],
   "source": [
    "def valid_users(train, test):\n",
    "    valid_train = train.value_counts()-8>=0\n",
    "    valid_test = test.value_counts()-2>=0\n",
    "    valid_both = pd.concat(valid_train.index,valid_test.index,join = 'inner')\n",
    "    return valid_both"
   ]
  },
  {
   "cell_type": "code",
   "execution_count": 7,
   "metadata": {},
   "outputs": [],
   "source": [
    "Phi_train = train.iloc[:,7:]\n",
    "Y_train = train[\"rating\"]\n",
    "Phi_test = test.iloc[:,7:]\n",
    "Y_test = test[\"rating\"]"
   ]
  },
  {
   "cell_type": "code",
   "execution_count": 9,
   "metadata": {},
   "outputs": [
    {
     "name": "stdout",
     "output_type": "stream",
     "text": [
      "train accuracy:  0.8527225599017367\n",
      "Mean Absolute Error of LogisticAT 0.8075389531431156\n"
     ]
    }
   ],
   "source": [
    "clf2 = mord.OrdinalRidge(alpha=1.)\n",
    "clf2.fit(Phi_train,Y_train)\n",
    "print(\"train accuracy: \", metrics.mean_absolute_error(clf2.predict(Phi_train), Y_train))\n",
    "print('Mean Absolute Error of LogisticAT %s' %\n",
    "      metrics.mean_absolute_error(clf2.predict(Phi_test), Y_test))"
   ]
  },
  {
   "cell_type": "markdown",
   "metadata": {},
   "source": [
    "# STEP 1 Recommendation"
   ]
  },
  {
   "cell_type": "code",
   "execution_count": 10,
   "metadata": {},
   "outputs": [
    {
     "data": {
      "text/plain": [
       "array([3., 3., 3., ..., 4., 3., 4.])"
      ]
     },
     "execution_count": 10,
     "metadata": {},
     "output_type": "execute_result"
    }
   ],
   "source": [
    "clf2.predict(Phi_test)"
   ]
  },
  {
   "cell_type": "markdown",
   "metadata": {},
   "source": [
    "*content based recommendation*"
   ]
  },
  {
   "cell_type": "code",
   "execution_count": null,
   "metadata": {},
   "outputs": [],
   "source": [
    "utility = pd.concat([train.loc[:,\"userId\":\"movieId\"], train.loc[:,\"Action\":\"Western\"], train[\"rating\"]], axis = 1)\n",
    "#utility.set_index(\"movieId\", inplace = True)"
   ]
  },
  {
   "cell_type": "markdown",
   "metadata": {},
   "source": [
    "# Case 1"
   ]
  },
  {
   "cell_type": "code",
   "execution_count": null,
   "metadata": {},
   "outputs": [],
   "source": [
    "#example\n",
    "#these are item profiles\n",
    "#0 1 1 1 0 3a\n",
    "#1 0 1 1 1 2a\n",
    "#features could be set of actors, and avg rating\n",
    "#take cosine distance to find distance btwn the two users."
   ]
  },
  {
   "cell_type": "code",
   "execution_count": null,
   "metadata": {},
   "outputs": [],
   "source": [
    "#also create user profiles\n",
    "#each feature will be avged over every movie user has rated\n",
    "\n",
    "#case 1: utility matrix has boolean value\n",
    "#home alone home alone 2\n",
    "#5           5\n",
    "#value for macaulay culkin: 1(since all movies the user has rated have macaulay culkin)\n",
    "#1 rating = avg rating over all movies?\n",
    "\n",
    "#case 2: utility matrix not boolean--variation from avg rating for item."
   ]
  },
  {
   "cell_type": "code",
   "execution_count": 8,
   "metadata": {},
   "outputs": [
    {
     "data": {
      "text/plain": [
       "Action         0.000000\n",
       "Adventure      1.000000\n",
       "Animation      0.000000\n",
       "Children       0.000000\n",
       "Comedy         1.000000\n",
       "Crime          0.000000\n",
       "Documentary    0.000000\n",
       "Drama          0.000000\n",
       "Fantasy        0.000000\n",
       "Film-Noir      0.000000\n",
       "Horror         0.000000\n",
       "IMAX           0.000000\n",
       "Musical        0.000000\n",
       "Mystery        0.000000\n",
       "Romance        0.000000\n",
       "Sci-Fi         0.000000\n",
       "Thriller       0.000000\n",
       "War            0.000000\n",
       "Western        1.000000\n",
       "rating         3.420635\n",
       "dtype: float64"
      ]
     },
     "execution_count": 8,
     "metadata": {},
     "output_type": "execute_result"
    }
   ],
   "source": [
    "#example 1:\n",
    "#item profile for Maverick\n",
    "maverick = smaller_ratings[smaller_ratings[\"title\"] ==\"Maverick (1994)\"].mean()\n",
    "maverick = pd.concat([maverick.loc[\"Action\":\"Western\"], maverick[[\"rating\"]]], axis = 0) #since series...gotta join rating to bottom...\n",
    "maverick"
   ]
  },
  {
   "cell_type": "code",
   "execution_count": 25,
   "metadata": {},
   "outputs": [
    {
     "data": {
      "text/plain": [
       "Action         0.524194\n",
       "Adventure      0.411290\n",
       "Animation      0.064516\n",
       "Children       0.056452\n",
       "Comedy         0.370968\n",
       "Crime          0.129032\n",
       "Documentary    0.000000\n",
       "Drama          0.193548\n",
       "Fantasy        0.145161\n",
       "Film-Noir      0.008065\n",
       "Horror         0.104839\n",
       "IMAX           0.008065\n",
       "Musical        0.016129\n",
       "Mystery        0.072581\n",
       "Romance        0.096774\n",
       "Sci-Fi         0.427419\n",
       "Thriller       0.298387\n",
       "War            0.040323\n",
       "Western        0.016129\n",
       "rating         3.774194\n",
       "dtype: float64"
      ]
     },
     "execution_count": 25,
     "metadata": {},
     "output_type": "execute_result"
    }
   ],
   "source": [
    "#user profile...who never rated maverick b4.\n",
    "user = smaller_ratings[~(smaller_ratings[\"title\"] ==\"Maverick (1994)\")].iloc[0][\"userId\"]\n",
    "user = smaller_ratings[smaller_ratings[\"userId\"] == user].mean() #mean of every column value.\n",
    "user = pd.concat([user.loc[\"Action\":\"Western\"], user[[\"rating\"]]], axis = 0)\n",
    "user"
   ]
  },
  {
   "cell_type": "code",
   "execution_count": null,
   "metadata": {},
   "outputs": [],
   "source": [
    "#cosine similarity btwn user and maverick.\n",
    "cos_user_maverick = np.dot(maverick, user)/(np.linalg.norm(maverick)*np.linalg.norm(user))\n",
    "cos_user_maverick\n",
    "#interpretation:\n",
    "#highest similarity, ie lowest cosine distance means lots of genres in common for movies user watched, and current movie\n",
    "#since rating is extremely high, it outweighs the only intersection of adventure movies, and makes similarity really high\n",
    "\n",
    "#in terms of what to do with many movies...calculate cosine similarity for every movie and the user. Then, recommend movies with top similarity scores.\n"
   ]
  },
  {
   "cell_type": "code",
   "execution_count": 54,
   "metadata": {},
   "outputs": [
    {
     "name": "stderr",
     "output_type": "stream",
     "text": [
      "C:\\Anaconda3\\lib\\site-packages\\ipykernel\\__main__.py:2: RuntimeWarning: invalid value encountered in double_scalars\n",
      "  from ipykernel import kernelapp as app\n"
     ]
    }
   ],
   "source": [
    "###MVP###\n",
    "mvp_utility = utility.loc[:,\"userId\":\"Action\"]\n",
    "tony = 332 #predict top movies for him.\n",
    "utility_tony = mvp_utility[mvp_utility[\"userId\"] == tony]\n",
    "\n",
    "#only think about case 1:\n",
    "tony_scores = utility_tony.mean()\n",
    "top_five_scores = mvp_utility.apply(lambda row: cos(row[\"Action\"], tony_scores[\"Action\"]),axis = 1). \\\n",
    "                    sort_values(ascending = False).iloc[:5]"
   ]
  },
  {
   "cell_type": "code",
   "execution_count": 55,
   "metadata": {},
   "outputs": [
    {
     "data": {
      "text/plain": [
       "19997376    1.0\n",
       "4590221     1.0\n",
       "4588101     1.0\n",
       "4588102     1.0\n",
       "4588374     1.0\n",
       "dtype: float64"
      ]
     },
     "execution_count": 55,
     "metadata": {},
     "output_type": "execute_result"
    }
   ],
   "source": [
    "top_five_scores"
   ]
  },
  {
   "cell_type": "code",
   "execution_count": 45,
   "metadata": {},
   "outputs": [],
   "source": [
    "top_five = utility[utility[\"movieId\"].isin(popularity(utility).index)]"
   ]
  },
  {
   "cell_type": "markdown",
   "metadata": {},
   "source": [
    "# Case 2"
   ]
  },
  {
   "cell_type": "code",
   "execution_count": 56,
   "metadata": {},
   "outputs": [
    {
     "data": {
      "text/html": [
       "<div>\n",
       "<style scoped>\n",
       "    .dataframe tbody tr th:only-of-type {\n",
       "        vertical-align: middle;\n",
       "    }\n",
       "\n",
       "    .dataframe tbody tr th {\n",
       "        vertical-align: top;\n",
       "    }\n",
       "\n",
       "    .dataframe thead th {\n",
       "        text-align: right;\n",
       "    }\n",
       "</style>\n",
       "<table border=\"1\" class=\"dataframe\">\n",
       "  <thead>\n",
       "    <tr style=\"text-align: right;\">\n",
       "      <th></th>\n",
       "      <th>SW1</th>\n",
       "      <th>SW2</th>\n",
       "      <th>SW3</th>\n",
       "    </tr>\n",
       "  </thead>\n",
       "  <tbody>\n",
       "    <tr>\n",
       "      <th>Julia Roberts</th>\n",
       "      <td>5</td>\n",
       "      <td>5</td>\n",
       "      <td>0</td>\n",
       "    </tr>\n",
       "    <tr>\n",
       "      <th>Iklaq Su</th>\n",
       "      <td>5</td>\n",
       "      <td>5</td>\n",
       "      <td>4</td>\n",
       "    </tr>\n",
       "  </tbody>\n",
       "</table>\n",
       "</div>"
      ],
      "text/plain": [
       "               SW1  SW2  SW3\n",
       "Julia Roberts    5    5    0\n",
       "Iklaq Su         5    5    4"
      ]
     },
     "execution_count": 56,
     "metadata": {},
     "output_type": "execute_result"
    }
   ],
   "source": [
    "#example of converting a utility matrix to a user_complex_profile\n",
    "#mvp of just julia roberts, and iklaq su as actors.\n",
    "    # J Roberts  Iklaq Su  rating\n",
    "#SW1  1           1                     5\n",
    "#SW2  1           1                     5\n",
    "#SW3  0           1                     4\n",
    "\n",
    "#-->\n",
    "                     #ratings\n",
    "#J Roberts             5              5                 0(ie no rating)\n",
    "#Iklaq Su     5              5                 4\n",
    "\n",
    "#columns -=> rows, rows ==> columns---value = r,c value * rating since r,c 1 denotes present, 0 denotes absent\n",
    "#transpose, and new value = previous val * rating?\n",
    "utility_ex = pd.DataFrame(index = ['SW1','SW2','SW3'],data = {'Julia Roberts' :[1,1,0],'Iklaq Su': [1,1,1], 'rating': [5,5,4]})\n",
    "n = utility_ex.shape[1]\n",
    "ratings_ex = utility_ex.T.apply(lambda col: col[0:n-1]*col[n-1], axis = 0)\n",
    "ratings_ex"
   ]
  },
  {
   "cell_type": "code",
   "execution_count": 57,
   "metadata": {},
   "outputs": [
    {
     "data": {
      "text/html": [
       "<div>\n",
       "<style scoped>\n",
       "    .dataframe tbody tr th:only-of-type {\n",
       "        vertical-align: middle;\n",
       "    }\n",
       "\n",
       "    .dataframe tbody tr th {\n",
       "        vertical-align: top;\n",
       "    }\n",
       "\n",
       "    .dataframe thead th {\n",
       "        text-align: right;\n",
       "    }\n",
       "</style>\n",
       "<table border=\"1\" class=\"dataframe\">\n",
       "  <thead>\n",
       "    <tr style=\"text-align: right;\">\n",
       "      <th></th>\n",
       "      <th>SW1</th>\n",
       "      <th>SW2</th>\n",
       "      <th>SW3</th>\n",
       "    </tr>\n",
       "  </thead>\n",
       "  <tbody>\n",
       "    <tr>\n",
       "      <th>Julia Roberts</th>\n",
       "      <td>0.333333</td>\n",
       "      <td>0.333333</td>\n",
       "      <td>-4.666667</td>\n",
       "    </tr>\n",
       "    <tr>\n",
       "      <th>Iklaq Su</th>\n",
       "      <td>0.333333</td>\n",
       "      <td>0.333333</td>\n",
       "      <td>-0.666667</td>\n",
       "    </tr>\n",
       "  </tbody>\n",
       "</table>\n",
       "</div>"
      ],
      "text/plain": [
       "                    SW1       SW2       SW3\n",
       "Julia Roberts  0.333333  0.333333 -4.666667\n",
       "Iklaq Su       0.333333  0.333333 -0.666667"
      ]
     },
     "execution_count": 57,
     "metadata": {},
     "output_type": "execute_result"
    }
   ],
   "source": [
    "#next example of converting utility complex to normalized values...\n",
    "#subtract avg rating of Tony Tony from ratings(based on movies)\n",
    "\n",
    "                     #ratings\n",
    "#J Roberts             5              5                 0(ie no rating)\n",
    "#Iklaq Su     5              5                 4\n",
    "#-->\n",
    "\n",
    "#avg rating = (5+5+4)/3 = 14/3\n",
    "##J Roberts             1/3              1/3                 -14/3\n",
    "#Iklaq Su     1/3              1/3               -2/3\n",
    "ratings_ex = ratings_ex - utility_ex[\"rating\"].mean()\n",
    "ratings_ex"
   ]
  },
  {
   "cell_type": "code",
   "execution_count": 58,
   "metadata": {
    "scrolled": true
   },
   "outputs": [
    {
     "data": {
      "text/plain": [
       "Julia Roberts   -1.333333e+00\n",
       "Iklaq Su        -2.960595e-16\n",
       "dtype: float64"
      ]
     },
     "execution_count": 58,
     "metadata": {},
     "output_type": "execute_result"
    }
   ],
   "source": [
    "#get avg normalized rating for each user:\n",
    "ratings_ex.mean(1)"
   ]
  }
 ],
 "metadata": {
  "kernelspec": {
   "display_name": "Python 3",
   "language": "python",
   "name": "python3"
  },
  "language_info": {
   "codemirror_mode": {
    "name": "ipython",
    "version": 3
   },
   "file_extension": ".py",
   "mimetype": "text/x-python",
   "name": "python",
   "nbconvert_exporter": "python",
   "pygments_lexer": "ipython3",
   "version": "3.7.3"
  }
 },
 "nbformat": 4,
 "nbformat_minor": 2
}
